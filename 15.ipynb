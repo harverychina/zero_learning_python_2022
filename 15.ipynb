{
 "cells": [
  {
   "cell_type": "code",
   "execution_count": 6,
   "id": "a39283ac-d879-42a3-8425-55aad71f8d77",
   "metadata": {},
   "outputs": [
    {
     "name": "stdout",
     "output_type": "stream",
     "text": [
      "{'r', 'b', 'g'}\n",
      "('r', 'b', 'g')\n"
     ]
    }
   ],
   "source": [
    "list1 = ['r','g','b','g','b','r','g']\n",
    "new_list = set(list1)\n",
    "print(new_list)\n",
    "new_list2 = tuple(new_list)\n",
    "print(new_list2)"
   ]
  },
  {
   "cell_type": "code",
   "execution_count": 2,
   "id": "e58a8233-9098-4587-8b80-bd4163c4de85",
   "metadata": {},
   "outputs": [
    {
     "name": "stdout",
     "output_type": "stream",
     "text": [
      "{'name': '1111', 'name2': '2222', 'name3': '3332'}\n"
     ]
    }
   ],
   "source": [
    "key = ['name', 'name2','name3']\n",
    "value = ['1111','2222','3332']\n",
    "new_key = tuple(key)\n",
    "new_value = tuple(value)\n",
    "new_dict = dict(zip(key,value))\n",
    "print(new_dict)"
   ]
  },
  {
   "cell_type": "code",
   "execution_count": 4,
   "id": "f67cf89b-7fc1-4284-b59e-c7b7bb3b4ba7",
   "metadata": {},
   "outputs": [
    {
     "name": "stdout",
     "output_type": "stream",
     "text": [
      "<zip object at 0x1109a0340>\n",
      "[(1, 4), (2, 5), (3, 6)]\n"
     ]
    }
   ],
   "source": [
    "a = [1,2,3]\n",
    "b = [4,5,6]\n",
    "c = zip(a,b)\n",
    "print(c)\n",
    "d = list(c)\n",
    "print(d)"
   ]
  }
 ],
 "metadata": {
  "kernelspec": {
   "display_name": "Python 3 (ipykernel)",
   "language": "python",
   "name": "python3"
  },
  "language_info": {
   "codemirror_mode": {
    "name": "ipython",
    "version": 3
   },
   "file_extension": ".py",
   "mimetype": "text/x-python",
   "name": "python",
   "nbconvert_exporter": "python",
   "pygments_lexer": "ipython3",
   "version": "3.10.8"
  }
 },
 "nbformat": 4,
 "nbformat_minor": 5
}
