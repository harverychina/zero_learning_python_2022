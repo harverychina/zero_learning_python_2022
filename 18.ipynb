{
 "cells": [
  {
   "cell_type": "code",
   "execution_count": 1,
   "id": "d1007622-c358-425b-8fd5-f8a18253e8e7",
   "metadata": {},
   "outputs": [
    {
     "name": "stdout",
     "output_type": "stream",
     "text": [
      "['张三,同事,13511112222\\n', '李四,朋友,13900001111\\n', '王武,同事,18912344321']\n"
     ]
    }
   ],
   "source": [
    "with open(\"./24-demo.csv\") as f:\n",
    "    file_data = f.readlines()\n",
    "    print(file_data)"
   ]
  },
  {
   "cell_type": "code",
   "execution_count": 2,
   "id": "e0dcc168-f569-464c-904c-891f8d00b775",
   "metadata": {},
   "outputs": [
    {
     "name": "stdout",
     "output_type": "stream",
     "text": [
      "Looking in indexes: https://mirrors.aliyun.com/pypi/simple\n",
      "Collecting tinydb\n",
      "  Downloading https://mirrors.aliyun.com/pypi/packages/2c/76/93df2ac94dacc0f63e4263ee7cf4787d0c3df22859d9e0627958048f39c7/tinydb-4.7.0-py3-none-any.whl (24 kB)\n",
      "Installing collected packages: tinydb\n",
      "Successfully installed tinydb-4.7.0\n"
     ]
    }
   ],
   "source": [
    "# 安装软件包并导入当前代码\n",
    "! pip3 install tinydb\n",
    "from tinydb import TinyDB"
   ]
  },
  {
   "cell_type": "code",
   "execution_count": 7,
   "id": "fae0cbbb-f2a5-49f6-ac78-e4901041cd17",
   "metadata": {},
   "outputs": [
    {
     "name": "stdout",
     "output_type": "stream",
     "text": [
      "{'name': '张三', 'source': '同事', 'tel': '13511112222'}\n",
      "{'name': '李四', 'source': '朋友', 'tel': '13900001111'}\n",
      "{'name': '王武', 'source': '同事', 'tel': '18912344321'}\n"
     ]
    }
   ],
   "source": [
    "# 指定存放通讯录的文件\n",
    "db = TinyDB('./db.json')\n",
    "# 将csv格式的文件，进行格式转换，并存入到通讯录文件\n",
    "friend_1 = {'name':file_data[0].split(',')[0], 'source':file_data[0].split(',')[1],'tel':file_data[0].split(',')[2].strip()}\n",
    "friend_2 = {'name':file_data[1].split(',')[0], 'source':file_data[1].split(',')[1],'tel':file_data[1].split(',')[2].strip()}\n",
    "friend_3 = {'name':file_data[2].split(',')[0], 'source':file_data[2].split(',')[1],'tel':file_data[2].split(',')[2].strip()}\n",
    "print(friend_1)\n",
    "print(friend_2)\n",
    "print(friend_3)"
   ]
  },
  {
   "cell_type": "code",
   "execution_count": 8,
   "id": "61de1bd7-1be1-464c-a357-013840e7959c",
   "metadata": {},
   "outputs": [
    {
     "data": {
      "text/plain": [
       "[1, 2, 3]"
      ]
     },
     "execution_count": 8,
     "metadata": {},
     "output_type": "execute_result"
    }
   ],
   "source": [
    "\"\"\"\n",
    "问题：\n",
    "1 假如文件中有更多的行怎样简便处理？\n",
    "2 怎样知道已经处理完所有的行了？\n",
    "3 如果文件格式不规范怎么办？\n",
    "4 这么写很啰嗦，有没有更优雅的写法？\n",
    "\"\"\"\n",
    "\n",
    "# 将通讯录中的好友信息写入数据库\n",
    "db.insert_multiple([\n",
    "    friend_1,\n",
    "    friend_2,\n",
    "    friend_3\n",
    "])\n"
   ]
  },
  {
   "cell_type": "code",
   "execution_count": 9,
   "id": "176a2364-ee95-4d2f-9b64-e5d1e57414bb",
   "metadata": {},
   "outputs": [
    {
     "data": {
      "text/plain": [
       "[{'name': '张三', 'source': '同事', 'tel': '13511112222'},\n",
       " {'name': '李四', 'source': '朋友', 'tel': '13900001111'},\n",
       " {'name': '王武', 'source': '同事', 'tel': '18912344321'}]"
      ]
     },
     "execution_count": 9,
     "metadata": {},
     "output_type": "execute_result"
    }
   ],
   "source": [
    "db.all()"
   ]
  },
  {
   "cell_type": "code",
   "execution_count": 11,
   "id": "eb3e1e6e-85dd-46cc-a953-a56642f178b8",
   "metadata": {},
   "outputs": [
    {
     "name": "stdout",
     "output_type": "stream",
     "text": [
      "[{'name': '张三', 'source': '同事', 'tel': '13511112222'}]\n",
      "张三的电话是：13511112222\n"
     ]
    }
   ],
   "source": [
    "# 根据姓名查电话\n",
    "from tinydb import Query\n",
    "friend = Query()\n",
    "friend_info = db.search(friend.name == \"张三\")\n",
    "print(friend_info)\n",
    "print(f\"{friend_info[0]['name']}的电话是：{friend_info[0]['tel']}\")"
   ]
  },
  {
   "cell_type": "code",
   "execution_count": null,
   "id": "fda7b122-7c5b-4bcb-bca9-c2de8fa1b851",
   "metadata": {},
   "outputs": [],
   "source": []
  }
 ],
 "metadata": {
  "kernelspec": {
   "display_name": "Python 3 (ipykernel)",
   "language": "python",
   "name": "python3"
  },
  "language_info": {
   "codemirror_mode": {
    "name": "ipython",
    "version": 3
   },
   "file_extension": ".py",
   "mimetype": "text/x-python",
   "name": "python",
   "nbconvert_exporter": "python",
   "pygments_lexer": "ipython3",
   "version": "3.10.8"
  }
 },
 "nbformat": 4,
 "nbformat_minor": 5
}
