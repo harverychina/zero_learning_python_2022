{
 "cells": [
  {
   "cell_type": "code",
   "execution_count": 4,
   "metadata": {},
   "outputs": [
    {
     "name": "stdout",
     "output_type": "stream",
     "text": [
      "number is 1\n",
      "number is 2\n",
      "number is 3\n",
      "4\n"
     ]
    }
   ],
   "source": [
    "number = 1\n",
    "while number <=3 :\n",
    "    print(f\"number is {number}\")\n",
    "    # number_temp = number + 1\n",
    "    # number = number_temp\n",
    "    number +=1\n",
    "\n",
    "print(number)"
   ]
  },
  {
   "cell_type": "code",
   "execution_count": 5,
   "metadata": {},
   "outputs": [
    {
     "name": "stdout",
     "output_type": "stream",
     "text": [
      "number is 3\n",
      "number is 2\n",
      "number is 1\n"
     ]
    }
   ],
   "source": [
    "number = 3\n",
    "while number >=1 :\n",
    "    print(f\"number is {number}\")\n",
    "    number -= 1"
   ]
  },
  {
   "cell_type": "code",
   "execution_count": null,
   "metadata": {},
   "outputs": [],
   "source": [
    "number = 1\n",
    "while number <= 3:\n",
    "    #list1[1]\n",
    "    # 未定义变量，引发while循环异常退出\n",
    "    print(f\"number is {number}\")\n",
    "    number += 1\n",
    "\n",
    "print(number)"
   ]
  },
  {
   "cell_type": "code",
   "execution_count": 9,
   "metadata": {},
   "outputs": [
    {
     "name": "stdout",
     "output_type": "stream",
     "text": [
      "number is True\n"
     ]
    }
   ],
   "source": [
    "number = True\n",
    "while number :\n",
    "    print(f\"number is {number}\")\n",
    "    number = False"
   ]
  },
  {
   "cell_type": "code",
   "execution_count": 21,
   "metadata": {},
   "outputs": [
    {
     "name": "stdout",
     "output_type": "stream",
     "text": [
      "number is 9\n",
      "number is 8\n",
      "number is 7\n",
      "number is 6\n"
     ]
    }
   ],
   "source": [
    "number = 10\n",
    "while number >= 1 :\n",
    "    number -= 1\n",
    "    if number == 5 :\n",
    "        break\n",
    "        # continue\n",
    "    print(f\"number is {number}\")"
   ]
  },
  {
   "cell_type": "code",
   "execution_count": 22,
   "metadata": {},
   "outputs": [
    {
     "name": "stdout",
     "output_type": "stream",
     "text": [
      "[1, 2, 3, 4]\n"
     ]
    }
   ],
   "source": [
    "list1 = []\n",
    "number = 1\n",
    "while number < 5 :\n",
    "    list1.append(number)\n",
    "    number += 1\n",
    "print(list1)"
   ]
  },
  {
   "cell_type": "code",
   "execution_count": 23,
   "metadata": {},
   "outputs": [
    {
     "name": "stdout",
     "output_type": "stream",
     "text": [
      "5\n",
      "4\n",
      "3\n",
      "2\n",
      "1\n"
     ]
    }
   ],
   "source": [
    "list1 = [1,2,3,4,5]\n",
    "while list1 :\n",
    "    print(list1.pop())"
   ]
  },
  {
   "cell_type": "code",
   "execution_count": 26,
   "metadata": {},
   "outputs": [
    {
     "name": "stdout",
     "output_type": "stream",
     "text": [
      "还需要努力哦！\n",
      "还需要努力哦！\n",
      "还需要努力哦！\n",
      "正确答案是：66\n"
     ]
    }
   ],
   "source": [
    "import random\n",
    "number = 0\n",
    "range_num = random.randint(1, 100)\n",
    "while number < 3 :\n",
    "    user_num = int(input(\"输入数字：\"))\n",
    "    if user_num == range_num :\n",
    "        print(\"你猜对了\")\n",
    "        break\n",
    "    else:\n",
    "        print(\"还需要努力哦！\")\n",
    "    number += 1\n",
    "\n",
    "if number == 3 :\n",
    "    print(f\"正确答案是：{range_num}\")"
   ]
  },
  {
   "cell_type": "code",
   "execution_count": 28,
   "metadata": {},
   "outputs": [
    {
     "name": "stdout",
     "output_type": "stream",
     "text": [
      "比你猜的要小一些，还需要努力哦！\n",
      "比你猜的要小一些，还需要努力哦！\n",
      "比你猜的要大一些，还需要努力哦！\n",
      "正确答案是：23\n"
     ]
    }
   ],
   "source": [
    "import random\n",
    "\n",
    "number = 0\n",
    "range_num = random.randint(1, 100)\n",
    "while number < 3:\n",
    "    user_num = int(input(\"输入数字：\"))\n",
    "    if user_num == range_num:\n",
    "        print(\"你猜对了\")\n",
    "        break\n",
    "    elif user_num < range_num:\n",
    "        print(\"比你猜的要大一些，还需要努力哦！\")\n",
    "    elif user_num > range_num:\n",
    "        print(\"比你猜的要小一些，还需要努力哦！\")\n",
    "    else:\n",
    "        print(\"差不多，还需要努力哦！\")\n",
    "    number += 1\n",
    "\n",
    "if number == 3:\n",
    "    print(f\"正确答案是：{range_num}\")"
   ]
  }
 ],
 "metadata": {
  "kernelspec": {
   "display_name": "Python 3",
   "language": "python",
   "name": "python3"
  },
  "language_info": {
   "codemirror_mode": {
    "name": "ipython",
    "version": 3
   },
   "file_extension": ".py",
   "mimetype": "text/x-python",
   "name": "python",
   "nbconvert_exporter": "python",
   "pygments_lexer": "ipython3",
   "version": "3.11.1"
  },
  "orig_nbformat": 4,
  "vscode": {
   "interpreter": {
    "hash": "aee8b7b246df8f9039afb4144a1f6fd8d2ca17a180786b69acc140d282b71a49"
   }
  }
 },
 "nbformat": 4,
 "nbformat_minor": 2
}
