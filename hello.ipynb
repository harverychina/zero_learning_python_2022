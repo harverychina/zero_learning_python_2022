{
 "cells": [
  {
   "cell_type": "code",
   "execution_count": 4,
   "id": "6cdeaf72-49ad-473a-8995-03d5d41e82fb",
   "metadata": {},
   "outputs": [
    {
     "name": "stdout",
     "output_type": "stream",
     "text": [
      "Hello Python!\n"
     ]
    }
   ],
   "source": [
    "print(\"Hello Python!\")"
   ]
  },
  {
   "cell_type": "code",
   "execution_count": 4,
   "id": "7bfc48fe-151d-4d02-8608-af0aa5c5cd74",
   "metadata": {},
   "outputs": [
    {
     "name": "stdin",
     "output_type": "stream",
     "text": [
      " 1234\n"
     ]
    },
    {
     "data": {
      "text/plain": [
       "'1234'"
      ]
     },
     "execution_count": 4,
     "metadata": {},
     "output_type": "execute_result"
    }
   ],
   "source": [
    "input()"
   ]
  },
  {
   "cell_type": "code",
   "execution_count": 6,
   "id": "ffee0aa9-71c7-4929-92dd-e0afb2084e92",
   "metadata": {},
   "outputs": [
    {
     "name": "stdin",
     "output_type": "stream",
     "text": [
      "请输入数字 123456\n"
     ]
    },
    {
     "data": {
      "text/plain": [
       "'123456'"
      ]
     },
     "execution_count": 6,
     "metadata": {},
     "output_type": "execute_result"
    }
   ],
   "source": [
    "input(\"请输入数字\")"
   ]
  },
  {
   "cell_type": "code",
   "execution_count": null,
   "id": "c36cbfb8-08a4-430c-aafe-a0a9fa2f125c",
   "metadata": {},
   "outputs": [],
   "source": [
    "input(\"number: \\n\")"
   ]
  },
  {
   "cell_type": "code",
   "execution_count": 6,
   "id": "f7c3a351-5713-45f8-bdaa-f47d91169406",
   "metadata": {},
   "outputs": [
    {
     "name": "stdin",
     "output_type": "stream",
     "text": [
      "请输入内容：\n",
      " 345\n"
     ]
    },
    {
     "name": "stdout",
     "output_type": "stream",
     "text": [
      "345\n",
      "345\n",
      "345\n"
     ]
    }
   ],
   "source": [
    "var1 = input(\"请输入内容：\\n\")\n",
    "print(var1)\n",
    "print(var1)\n",
    "print(var1)"
   ]
  },
  {
   "cell_type": "code",
   "execution_count": null,
   "id": "4d2e48fd-48c1-4447-b536-bf9fc72c0f44",
   "metadata": {},
   "outputs": [],
   "source": []
  }
 ],
 "metadata": {
  "kernelspec": {
   "display_name": "Python 3 (ipykernel)",
   "language": "python",
   "name": "python3"
  },
  "language_info": {
   "codemirror_mode": {
    "name": "ipython",
    "version": 3
   },
   "file_extension": ".py",
   "mimetype": "text/x-python",
   "name": "python",
   "nbconvert_exporter": "python",
   "pygments_lexer": "ipython3",
   "version": "3.10.8"
  }
 },
 "nbformat": 4,
 "nbformat_minor": 5
}
