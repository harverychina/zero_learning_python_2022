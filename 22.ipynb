{
 "cells": [
  {
   "cell_type": "code",
   "execution_count": 1,
   "metadata": {},
   "outputs": [
    {
     "name": "stdout",
     "output_type": "stream",
     "text": [
      "Wilson\n",
      "Monica\n",
      "John\n",
      "Wang\n"
     ]
    }
   ],
   "source": [
    "friends = [\"wilson\",\"monica\",\"john\",\"wang\"]\n",
    "for friend in friends:\n",
    "    print(friend.capitalize())   # 名字首字母大写"
   ]
  },
  {
   "cell_type": "code",
   "execution_count": 4,
   "metadata": {},
   "outputs": [
    {
     "name": "stdout",
     "output_type": "stream",
     "text": [
      "name\n",
      "language\n",
      "Sessions\n",
      "Other name\n"
     ]
    }
   ],
   "source": [
    "movie1 = {\"name\":\"Friends\", \"language\":\"En\", \"Sessions\":10, \"Other name\":\"Six of One\"}\n",
    "for title in movie1.keys() :\n",
    "    print(title)"
   ]
  },
  {
   "cell_type": "code",
   "execution_count": 5,
   "metadata": {},
   "outputs": [
    {
     "name": "stdout",
     "output_type": "stream",
     "text": [
      "Friends\n",
      "En\n",
      "10\n",
      "Six of One\n"
     ]
    }
   ],
   "source": [
    "movie1 = {\"name\":\"Friends\", \"language\":\"En\", \"Sessions\":10, \"Other name\":\"Six of One\"}\n",
    "for value in movie1.values():\n",
    "    print(value)"
   ]
  },
  {
   "cell_type": "code",
   "execution_count": 6,
   "metadata": {},
   "outputs": [
    {
     "name": "stdout",
     "output_type": "stream",
     "text": [
      "name Friends\n",
      "language En\n",
      "Sessions 10\n",
      "Other name Six of One\n"
     ]
    }
   ],
   "source": [
    "movie1 = {\"name\":\"Friends\", \"language\":\"En\", \"Sessions\":10, \"Other name\":\"Six of One\"}\n",
    "for title, value in movie1.items():\n",
    "    print(title, value)"
   ]
  },
  {
   "cell_type": "code",
   "execution_count": 7,
   "metadata": {},
   "outputs": [
    {
     "name": "stdout",
     "output_type": "stream",
     "text": [
      "(0, ('name', 'Friends'))\n",
      "(1, ('language', 'En'))\n",
      "(2, ('Sessions', 10))\n",
      "(3, ('Other name', 'Six of One'))\n"
     ]
    }
   ],
   "source": [
    "movie1 = {\"name\":\"Friends\", \"language\":\"En\", \"Sessions\":10, \"Other name\":\"Six of One\"}\n",
    "for i in enumerate(movie1.items()):\n",
    "    print(i)"
   ]
  },
  {
   "cell_type": "code",
   "execution_count": 8,
   "metadata": {},
   "outputs": [
    {
     "name": "stdout",
     "output_type": "stream",
     "text": [
      "0\n",
      "1\n",
      "2\n",
      "3\n"
     ]
    }
   ],
   "source": [
    "movie1 = {\"name\":\"Friends\", \"language\":\"En\", \"Sessions\":10, \"Other name\":\"Six of One\"}\n",
    "for i in enumerate(movie1.items()):\n",
    "    print(i[0])"
   ]
  },
  {
   "cell_type": "code",
   "execution_count": 9,
   "metadata": {},
   "outputs": [
    {
     "name": "stdout",
     "output_type": "stream",
     "text": [
      "name\n",
      "language\n",
      "Sessions\n",
      "Other name\n"
     ]
    }
   ],
   "source": [
    "movie1 = {\"name\":\"Friends\", \"language\":\"En\", \"Sessions\":10, \"Other name\":\"Six of One\"}\n",
    "for i in enumerate(movie1.items()):\n",
    "    print(i[1][0])"
   ]
  },
  {
   "cell_type": "code",
   "execution_count": 10,
   "metadata": {},
   "outputs": [
    {
     "name": "stdout",
     "output_type": "stream",
     "text": [
      "Friends\n",
      "En\n",
      "10\n",
      "Six of One\n"
     ]
    }
   ],
   "source": [
    "movie1 = {\"name\":\"Friends\", \"language\":\"En\", \"Sessions\":10, \"Other name\":\"Six of One\"}\n",
    "for i in enumerate(movie1.items()):\n",
    "    print(i[1][1])"
   ]
  },
  {
   "cell_type": "code",
   "execution_count": 11,
   "metadata": {},
   "outputs": [
    {
     "name": "stdout",
     "output_type": "stream",
     "text": [
      "[1, 2, 3, 4]\n"
     ]
    }
   ],
   "source": [
    "list1 = [ i for i in (1,2,3,4) ]\n",
    "print(list1)"
   ]
  },
  {
   "cell_type": "code",
   "execution_count": 12,
   "metadata": {},
   "outputs": [
    {
     "name": "stdout",
     "output_type": "stream",
     "text": [
      "[1, 4, 9, 16]\n"
     ]
    }
   ],
   "source": [
    "list2 = [i* i for i in (1, 2, 3, 4)]\n",
    "print(list2)"
   ]
  },
  {
   "cell_type": "code",
   "execution_count": 13,
   "metadata": {},
   "outputs": [
    {
     "name": "stdout",
     "output_type": "stream",
     "text": [
      "[9, 16]\n"
     ]
    }
   ],
   "source": [
    "list3 = [i* i for i in (1, 2, 3, 4) if i > 2]\n",
    "print(list3)"
   ]
  },
  {
   "cell_type": "code",
   "execution_count": 14,
   "metadata": {},
   "outputs": [
    {
     "name": "stdout",
     "output_type": "stream",
     "text": [
      "[9, 16]\n"
     ]
    }
   ],
   "source": [
    "# 将推导式内容展开写\n",
    "list4 = []\n",
    "for i in (1,2,3,4):\n",
    "    if i > 2:\n",
    "        list4.append(i* i)\n",
    "print(list4)"
   ]
  },
  {
   "cell_type": "code",
   "execution_count": 15,
   "metadata": {},
   "outputs": [
    {
     "name": "stdout",
     "output_type": "stream",
     "text": [
      "['RACHEL', 'MONICA', 'PHOEBE', 'JOEY']\n"
     ]
    }
   ],
   "source": [
    "# 所有字母变大写\n",
    "list1 = [i.upper() for i in [\"rachel\", \"monica\", \"Phoebe\", \"joey\"]]\n",
    "print(list1)"
   ]
  },
  {
   "cell_type": "code",
   "execution_count": 18,
   "metadata": {},
   "outputs": [
    {
     "name": "stdout",
     "output_type": "stream",
     "text": [
      "['JOEY', 'MONICA', 'PHOEBE', 'RACHEL']\n"
     ]
    }
   ],
   "source": [
    "# 所有字母升序\n",
    "list1.sort()\n",
    "print(list1)"
   ]
  },
  {
   "cell_type": "code",
   "execution_count": 19,
   "metadata": {},
   "outputs": [
    {
     "name": "stdout",
     "output_type": "stream",
     "text": [
      "(0, 'JOEY')\n",
      "(1, 'MONICA')\n",
      "(2, 'PHOEBE')\n",
      "(3, 'RACHEL')\n"
     ]
    }
   ],
   "source": [
    "for i in enumerate(list1):\n",
    "    print(i)"
   ]
  },
  {
   "cell_type": "code",
   "execution_count": null,
   "metadata": {},
   "outputs": [],
   "source": []
  }
 ],
 "metadata": {
  "kernelspec": {
   "display_name": "Python 3",
   "language": "python",
   "name": "python3"
  },
  "language_info": {
   "codemirror_mode": {
    "name": "ipython",
    "version": 3
   },
   "file_extension": ".py",
   "mimetype": "text/x-python",
   "name": "python",
   "nbconvert_exporter": "python",
   "pygments_lexer": "ipython3",
   "version": "3.11.1 (v3.11.1:a7a450f84a, Dec  6 2022, 15:24:06) [Clang 13.0.0 (clang-1300.0.29.30)]"
  },
  "orig_nbformat": 4,
  "vscode": {
   "interpreter": {
    "hash": "aee8b7b246df8f9039afb4144a1f6fd8d2ca17a180786b69acc140d282b71a49"
   }
  }
 },
 "nbformat": 4,
 "nbformat_minor": 2
}
