{
 "cells": [
  {
   "cell_type": "code",
   "execution_count": 3,
   "metadata": {},
   "outputs": [
    {
     "name": "stdout",
     "output_type": "stream",
     "text": [
      "Not found\n"
     ]
    }
   ],
   "source": [
    "http_response_status = 404\n",
    "\n",
    "match http_response_status:\n",
    "    case 400:\n",
    "        print(\"Bad request\")\n",
    "    case 404:\n",
    "        print(\"Not found\")\n",
    "    case 418:\n",
    "        print(\"I'm a teapot\")\n",
    "    case _:\n",
    "        print(\"Something's wrong with the internet\")\n"
   ]
  },
  {
   "cell_type": "code",
   "execution_count": 5,
   "metadata": {},
   "outputs": [
    {
     "name": "stdout",
     "output_type": "stream",
     "text": [
      "5xx error\n"
     ]
    }
   ],
   "source": [
    "http_response_status = 500\n",
    "match http_response_status:\n",
    "    case 400 | 403 | 404:\n",
    "        print(\"4xx error\")\n",
    "    case 500 | 501 | 503:\n",
    "        print(\"5xx error\")"
   ]
  },
  {
   "cell_type": "code",
   "execution_count": 1,
   "metadata": {},
   "outputs": [
    {
     "name": "stdout",
     "output_type": "stream",
     "text": [
      "It's month no found\n"
     ]
    }
   ],
   "source": [
    "month = int(input(\"输入月份\"))\n",
    "match month:\n",
    "    case 1 | 2 | 3 :\n",
    "        print(\"It's a spring month\")\n",
    "    case 4 | 5 | 6 | 7 :\n",
    "        print(\"It's a summer month\")\n",
    "    case 8 | 9 | 10 :\n",
    "        print(\"This is an autumn month\")\n",
    "    case 11 | 12 :\n",
    "        print(\"It's a winter month\")\n",
    "    case _:\n",
    "        print(\"It's month no found\")"
   ]
  },
  {
   "cell_type": "code",
   "execution_count": null,
   "metadata": {},
   "outputs": [],
   "source": []
  }
 ],
 "metadata": {
  "kernelspec": {
   "display_name": "Python 3 (ipykernel)",
   "language": "python",
   "name": "python3"
  },
  "language_info": {
   "codemirror_mode": {
    "name": "ipython",
    "version": 3
   },
   "file_extension": ".py",
   "mimetype": "text/x-python",
   "name": "python",
   "nbconvert_exporter": "python",
   "pygments_lexer": "ipython3",
   "version": "3.11.1"
  },
  "vscode": {
   "interpreter": {
    "hash": "1a1af0ee75eeea9e2e1ee996c87e7a2b11a0bebd85af04bb136d915cefc0abce"
   }
  }
 },
 "nbformat": 4,
 "nbformat_minor": 4
}
