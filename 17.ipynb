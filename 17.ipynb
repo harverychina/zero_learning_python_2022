{
 "cells": [
  {
   "cell_type": "code",
   "execution_count": 1,
   "id": "40e65fd3-9e8e-4411-9d03-e73273af66ed",
   "metadata": {},
   "outputs": [
    {
     "name": "stdout",
     "output_type": "stream",
     "text": [
      "['You can eat and eat, but nothing will ever fill the void. Welcome to the '\n",
      " 'real world! It sucks. You’re gonna love it!\\n',\n",
      " '\\n',\n",
      " 'I thought that it (propose) mattered what I said or where I said it. \\n',\n",
      " '\\n',\n",
      " 'Then I realized the only thing that matters is that you, you make me happier '\n",
      " 'than I ever thought I could be.\\n',\n",
      " '\\n',\n",
      " 'If I had known the last time I saw you would be the last time, I ... I would '\n",
      " 'have stopped to memorize your face, the way you move, everything about '\n",
      " 'you. \\n',\n",
      " '\\n',\n",
      " 'If I had known the last time I kissed you would have been the last time... I '\n",
      " 'never would have stopped.\\n',\n",
      " '\\n',\n",
      " 'Monica, I thought this (getting married) was going to be the most difficult '\n",
      " 'thing I ever gonna have to do. \\n',\n",
      " '\\n',\n",
      " 'But when I saw you walking down that aisle I realized how simple it was.\\n',\n",
      " '\\n',\n",
      " 'I love you. Any surprises that come our way it’s okay, because I will always '\n",
      " 'love you. You are the person I was meant to spend the rest of my life '\n",
      " 'with.\\n',\n",
      " '\\n',\n",
      " 'I say more sumb things before 9 am than most people say all day.\\n',\n",
      " '\\n',\n",
      " 'Ah, humor based on my pain.\\n',\n",
      " '\\n',\n",
      " 'No uterus, no opinion.\\n',\n",
      " '\\n',\n",
      " 'I have to go before I put your head through a wall.\\n',\n",
      " '\\n',\n",
      " 'You know, like a cow’s opinion. It doesn’t matter. It’s moo.\\n',\n",
      " '\\n',\n",
      " 'Your love is like a giant pigeon crapping on my heart. ']\n"
     ]
    }
   ],
   "source": [
    "import pprint  # 格式化输出第三方库\n",
    "with open(\"./24-demo.txt\") as f:\n",
    "    file_data = f.readlines()\n",
    "    pprint.pprint(file_data)   #为了演示文件内容而特意使用了pprint"
   ]
  },
  {
   "cell_type": "code",
   "execution_count": 2,
   "id": "af8aabe8-523a-4b99-a947-10c5800bdbed",
   "metadata": {},
   "outputs": [
    {
     "name": "stdout",
     "output_type": "stream",
     "text": [
      "27\n"
     ]
    }
   ],
   "source": [
    "# 统计全部行数\n",
    "print(len(file_data))"
   ]
  },
  {
   "cell_type": "code",
   "execution_count": 3,
   "id": "0a3bd8e9-e7b0-4709-acc8-1c5dcf12b3ea",
   "metadata": {},
   "outputs": [
    {
     "name": "stdout",
     "output_type": "stream",
     "text": [
      "13\n"
     ]
    }
   ],
   "source": [
    "# 统计空行行数\n",
    "print(file_data.count(\"\\n\"))"
   ]
  },
  {
   "cell_type": "code",
   "execution_count": 6,
   "id": "173e2fe0-b835-41d6-8a2e-3fa934813d3a",
   "metadata": {},
   "outputs": [
    {
     "name": "stdout",
     "output_type": "stream",
     "text": [
      "14\n",
      "14\n"
     ]
    }
   ],
   "source": [
    "# 统计非空的行数\n",
    "print(len(file_data) - file_data.count(\"\\n\"))\n",
    "print(len(set(file_data)) - 1)"
   ]
  },
  {
   "cell_type": "code",
   "execution_count": 8,
   "id": "7cf8fb93-fd06-4367-aa53-1434e6aa140a",
   "metadata": {},
   "outputs": [
    {
     "name": "stdout",
     "output_type": "stream",
     "text": [
      "0\n",
      "19\n"
     ]
    }
   ],
   "source": [
    "# 统计单词 I 出现的次数\n",
    "print(file_data.count(\"I\")) # 错误用法，结果为0\n",
    "print(str(file_data).split(\" \").count(\"I\"))  # 长字符串以空格为拆分若干个单词，然后再统计"
   ]
  },
  {
   "cell_type": "code",
   "execution_count": 10,
   "id": "68158922-f52e-4b8c-b0a3-1f7ea03def5c",
   "metadata": {},
   "outputs": [
    {
     "name": "stdout",
     "output_type": "stream",
     "text": [
      "19\n"
     ]
    }
   ],
   "source": [
    "# 初学者易于理解操作\n",
    "string_file_data = str(file_data)\n",
    "new_file_data = string_file_data.split(\" \")\n",
    "file_data_count = new_file_data.count(\"I\")\n",
    "print(file_data_count)"
   ]
  },
  {
   "cell_type": "code",
   "execution_count": 13,
   "id": "a2d5d1cf-f015-43dc-b1d6-069e8dc22ee8",
   "metadata": {},
   "outputs": [
    {
     "name": "stdout",
     "output_type": "stream",
     "text": [
      "6\n"
     ]
    }
   ],
   "source": [
    "# 统计单词you和You出现的次数\n",
    "print(int(str(file_data).split(\" \").count(\"you\")) + int(str(file_data).split(\" \").count(\"You\")))"
   ]
  },
  {
   "cell_type": "code",
   "execution_count": null,
   "id": "b57fb0a5-b509-4125-8ad7-b83a9e889d8b",
   "metadata": {},
   "outputs": [],
   "source": []
  }
 ],
 "metadata": {
  "kernelspec": {
   "display_name": "Python 3 (ipykernel)",
   "language": "python",
   "name": "python3"
  },
  "language_info": {
   "codemirror_mode": {
    "name": "ipython",
    "version": 3
   },
   "file_extension": ".py",
   "mimetype": "text/x-python",
   "name": "python",
   "nbconvert_exporter": "python",
   "pygments_lexer": "ipython3",
   "version": "3.10.8"
  }
 },
 "nbformat": 4,
 "nbformat_minor": 5
}
