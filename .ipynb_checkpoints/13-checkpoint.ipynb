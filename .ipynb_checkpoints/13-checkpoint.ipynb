{
 "cells": [
  {
   "cell_type": "code",
   "execution_count": 6,
   "id": "3e0fff2d-2a7b-471e-bcef-f9bfae3ca913",
   "metadata": {},
   "outputs": [
    {
     "name": "stdout",
     "output_type": "stream",
     "text": [
      "['c', 'd']\n",
      "c\n",
      "d\n"
     ]
    }
   ],
   "source": [
    "list1 = ['a','b',['c','d']]\n",
    "print(list1[2])\n",
    "print(list1[2][0])\n",
    "print(list1[2][-1])"
   ]
  },
  {
   "cell_type": "code",
   "execution_count": 7,
   "id": "e8c81a73-199f-45e9-b8f5-14f8d74a16c7",
   "metadata": {},
   "outputs": [
    {
     "name": "stdout",
     "output_type": "stream",
     "text": [
      "[[1, 2, 3], [4, 5, 6], [7, 8, 9]]\n"
     ]
    }
   ],
   "source": [
    "print([[i+3*j for i in range(1,4)] for j in range(3)])"
   ]
  },
  {
   "cell_type": "code",
   "execution_count": 12,
   "id": "d54b7e40-d3a7-478f-8176-712aeeeb739f",
   "metadata": {},
   "outputs": [
    {
     "name": "stdout",
     "output_type": "stream",
     "text": [
      "<class 'list'>\n",
      "['a', 'b', 'c', 'd', 'e', ['f', 'g']]\n"
     ]
    }
   ],
   "source": [
    "list_demo = ['a', 'b', 'c', 'd' , 'e' , ['f', 'g']]\n",
    "print(type(list_demo))\n",
    "print(list_demo)"
   ]
  },
  {
   "cell_type": "code",
   "execution_count": 13,
   "id": "41520d37-05b8-4110-81c0-e1fb776e47d1",
   "metadata": {},
   "outputs": [],
   "source": [
    "list_demo.insert(0, \"first\")"
   ]
  },
  {
   "cell_type": "code",
   "execution_count": 14,
   "id": "3aa6ae0a-4303-4ecb-ab4e-1d488d14572c",
   "metadata": {},
   "outputs": [
    {
     "name": "stdout",
     "output_type": "stream",
     "text": [
      "['first', 'a', 'b', 'c', 'd', 'e', ['f', 'g']]\n"
     ]
    }
   ],
   "source": [
    "print(list_demo)"
   ]
  },
  {
   "cell_type": "code",
   "execution_count": 15,
   "id": "6b6f90f1-42b0-43a6-9eba-71379972c600",
   "metadata": {},
   "outputs": [
    {
     "name": "stdout",
     "output_type": "stream",
     "text": [
      "['first', 'a', 'b', 'c', 'd', 'e', 'last', ['f', 'g']]\n"
     ]
    }
   ],
   "source": [
    "list_demo.insert(-1, \"last\")\n",
    "print(list_demo)"
   ]
  },
  {
   "cell_type": "code",
   "execution_count": 21,
   "id": "845681e6-30bf-4418-ac18-3d54db4a3ec5",
   "metadata": {},
   "outputs": [
    {
     "name": "stdout",
     "output_type": "stream",
     "text": [
      "['first', 'a', 'b', 'c', 'd', 'e', 'last', ['f', 'g'], 'l', 'a', 's', 't', '_', 'o', 'n', 'e', 'last_one']\n"
     ]
    }
   ],
   "source": [
    "list_demo.append(\"last_one\")\n",
    "print(list_demo)"
   ]
  },
  {
   "cell_type": "code",
   "execution_count": 22,
   "id": "ae9d595d-732f-4d73-a4b4-8132c2aba18c",
   "metadata": {},
   "outputs": [
    {
     "name": "stdout",
     "output_type": "stream",
     "text": [
      "['first', 'a', 'b', 'c', 'd', 'e', 'last', ['f', 'g'], 'l', 'a', 's', 't', '_', 'o', 'n', 'e', 'last_one', 'l', 'a', 's', 't', '_', 'o', 'n', 'e']\n"
     ]
    }
   ],
   "source": [
    "list_demo.extend(\"last_one\")\n",
    "print(list_demo)"
   ]
  },
  {
   "cell_type": "code",
   "execution_count": 23,
   "id": "7666924b-6079-41c5-8ec1-14f2cb9b7b31",
   "metadata": {},
   "outputs": [
    {
     "name": "stdout",
     "output_type": "stream",
     "text": [
      "['first', 'a', 'b', 'c', 'd', 'e', 'last', ['f', 'g'], 'l', 'a', 's', 't', '_', 'o', 'n', 'e', 'l', 'a', 's', 't', '_', 'o', 'n', 'e']\n"
     ]
    }
   ],
   "source": [
    "list_demo.remove(\"last_one\")\n",
    "print(list_demo)"
   ]
  },
  {
   "cell_type": "code",
   "execution_count": 32,
   "id": "a8ee303d-942f-45ab-a462-967f69d9d078",
   "metadata": {},
   "outputs": [
    {
     "name": "stdout",
     "output_type": "stream",
     "text": [
      "listis ['first', 'a', 'b', 'c', 'd', 'e', 'last', ['f', 'g'], 'l', 'a', 's', 't', '_', 'o', 'n', 'e']\n",
      "l\n"
     ]
    }
   ],
   "source": [
    "result = list_demo.pop(-1)\n",
    "print(f\"listis {list_demo}\")\n",
    "print(f\"{result}\")"
   ]
  },
  {
   "cell_type": "code",
   "execution_count": null,
   "id": "be3ec492-e267-467b-940a-c51534120da9",
   "metadata": {},
   "outputs": [],
   "source": []
  }
 ],
 "metadata": {
  "kernelspec": {
   "display_name": "Python 3 (ipykernel)",
   "language": "python",
   "name": "python3"
  },
  "language_info": {
   "codemirror_mode": {
    "name": "ipython",
    "version": 3
   },
   "file_extension": ".py",
   "mimetype": "text/x-python",
   "name": "python",
   "nbconvert_exporter": "python",
   "pygments_lexer": "ipython3",
   "version": "3.10.8"
  }
 },
 "nbformat": 4,
 "nbformat_minor": 5
}
