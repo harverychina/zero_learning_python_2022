{
 "cells": [
  {
   "cell_type": "code",
   "execution_count": 16,
   "id": "18e3b7c9-fa00-498a-8690-84025d52627d",
   "metadata": {},
   "outputs": [],
   "source": [
    "mail_list = {'tom':'tom@gmail.com', 'jerry':'jerry@foxmail.com', 'john':'john@163.com'}"
   ]
  },
  {
   "cell_type": "code",
   "execution_count": 17,
   "id": "9d018f69-17f5-43ab-a8b8-35ef7869635b",
   "metadata": {},
   "outputs": [
    {
     "data": {
      "text/plain": [
       "dict_items([('tom', 'tom@gmail.com'), ('jerry', 'jerry@foxmail.com'), ('john', 'john@163.com')])"
      ]
     },
     "execution_count": 17,
     "metadata": {},
     "output_type": "execute_result"
    }
   ],
   "source": [
    "# 字典所有元素\n",
    "mail_list.items()"
   ]
  },
  {
   "cell_type": "code",
   "execution_count": 18,
   "id": "5e989f7b-a63a-4586-8d8d-659b1a01b8ad",
   "metadata": {},
   "outputs": [
    {
     "data": {
      "text/plain": [
       "dict_keys(['tom', 'jerry', 'john'])"
      ]
     },
     "execution_count": 18,
     "metadata": {},
     "output_type": "execute_result"
    }
   ],
   "source": [
    "# 字典所有key\n",
    "mail_list.keys()"
   ]
  },
  {
   "cell_type": "code",
   "execution_count": 19,
   "id": "5bdfe255-bb3b-4ec7-8a16-987b922b7c0b",
   "metadata": {},
   "outputs": [
    {
     "data": {
      "text/plain": [
       "dict_values(['tom@gmail.com', 'jerry@foxmail.com', 'john@163.com'])"
      ]
     },
     "execution_count": 19,
     "metadata": {},
     "output_type": "execute_result"
    }
   ],
   "source": [
    "# 字典里所有值\n",
    "mail_list.values()"
   ]
  },
  {
   "cell_type": "code",
   "execution_count": 20,
   "id": "a365735e-37c6-4138-894e-8a4191682c96",
   "metadata": {},
   "outputs": [
    {
     "data": {
      "text/plain": [
       "'tom@gmail.com'"
      ]
     },
     "execution_count": 20,
     "metadata": {},
     "output_type": "execute_result"
    }
   ],
   "source": [
    "# 字典里某个值\n",
    "mail_list.get('tom')"
   ]
  },
  {
   "cell_type": "code",
   "execution_count": 21,
   "id": "45a96d71-b106-4add-b25b-1c2ee94926f1",
   "metadata": {},
   "outputs": [
    {
     "name": "stdout",
     "output_type": "stream",
     "text": [
      "tom\n",
      "tom@gmail.com\n",
      "jerry\n",
      "jerry@foxmail.com\n",
      "john\n",
      "john@163.com\n"
     ]
    }
   ],
   "source": [
    "for key, value in mail_list.items():\n",
    "    print(key)\n",
    "    print(value)"
   ]
  },
  {
   "cell_type": "code",
   "execution_count": 22,
   "id": "8db78b8a-82fb-4046-9c3b-29c78b3212d0",
   "metadata": {},
   "outputs": [
    {
     "name": "stdout",
     "output_type": "stream",
     "text": [
      "{'tom': 'tom@gmail.com', 'jerry': 'jerry@foxmail.com'}\n"
     ]
    }
   ],
   "source": [
    "# mail_list.pop('tom')\n",
    "mail_list.popitem()\n",
    "print(mail_list)"
   ]
  },
  {
   "cell_type": "code",
   "execution_count": 28,
   "id": "e110e430-baa6-482c-9b12-0e9feaf98d98",
   "metadata": {},
   "outputs": [
    {
     "name": "stdout",
     "output_type": "stream",
     "text": [
      "abc@abc.com\n",
      "{'tom': 'tom@gmail.com', 'jerry': 'jerry@foxmail.com', 'tom2': None, 'tom3': 'abc@abc.com'}\n"
     ]
    }
   ],
   "source": [
    "# 字典默认值\n",
    "# tom_mail = mail_list.setdefault('tom2')\n",
    "# tom_mail = mail_list.setdefault('tom3', 'abc@abc.com')\n",
    "tom_mail = mail_list.setdefault('tom3', 'xyz@abc.com')\n",
    "print(tom_mail)\n",
    "print(mail_list)"
   ]
  },
  {
   "cell_type": "code",
   "execution_count": null,
   "id": "2872fc6f-c48b-4852-8b83-c65860cf6e12",
   "metadata": {},
   "outputs": [],
   "source": []
  }
 ],
 "metadata": {
  "kernelspec": {
   "display_name": "Python 3 (ipykernel)",
   "language": "python",
   "name": "python3"
  },
  "language_info": {
   "codemirror_mode": {
    "name": "ipython",
    "version": 3
   },
   "file_extension": ".py",
   "mimetype": "text/x-python",
   "name": "python",
   "nbconvert_exporter": "python",
   "pygments_lexer": "ipython3",
   "version": "3.10.8"
  }
 },
 "nbformat": 4,
 "nbformat_minor": 5
}
