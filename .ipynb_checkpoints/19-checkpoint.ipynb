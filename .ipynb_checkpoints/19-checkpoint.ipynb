{
 "cells": [
  {
   "cell_type": "code",
   "execution_count": null,
   "id": "ede36288-c4ec-48cd-bba7-fd0177d31a5f",
   "metadata": {},
   "outputs": [],
   "source": [
    "# if True :\n",
    "if False :\n",
    "    print(\"成立\")\n",
    "    print(\"成立2\")\n",
    "print(\"------\")"
   ]
  },
  {
   "cell_type": "code",
   "execution_count": 8,
   "id": "9fe88deb-7c99-452d-b482-5cc97826f992",
   "metadata": {},
   "outputs": [
    {
     "name": "stdout",
     "output_type": "stream",
     "text": [
      "不成立\n",
      "------\n"
     ]
    }
   ],
   "source": [
    "if False:\n",
    "# if True :\n",
    "    print(\"成立\")\n",
    "else:\n",
    "    print(\"不成立\")\n",
    "print(\"------\")"
   ]
  },
  {
   "cell_type": "code",
   "execution_count": 13,
   "id": "729b4f8a-31f9-41c9-b822-1b7e63121b7b",
   "metadata": {},
   "outputs": [
    {
     "name": "stdout",
     "output_type": "stream",
     "text": [
      "number是偶数\n"
     ]
    }
   ],
   "source": [
    "number = 10\n",
    "if number % 2 == 1 :\n",
    "    print(\"number是奇数\")\n",
    "elif number % 2 == 0 :\n",
    "    print(\"number是偶数\")\n",
    "else:\n",
    "    print(f\"number的值是{number}\")"
   ]
  },
  {
   "cell_type": "code",
   "execution_count": null,
   "id": "1aca21c5-8b59-4a0c-801b-b0b2073c2b6d",
   "metadata": {},
   "outputs": [],
   "source": [
    "# 生成随机数的代码部分\n",
    "import random\n",
    "number = int(random.random() * 100 +1)\n",
    "if number % 3 == 0:\n",
    "    print(f\"{number}能被3整除\")\n",
    "else:\n",
    "    print(f\"{number}不能被3整除\")"
   ]
  }
 ],
 "metadata": {
  "kernelspec": {
   "display_name": "Python 3 (ipykernel)",
   "language": "python",
   "name": "python3"
  },
  "language_info": {
   "codemirror_mode": {
    "name": "ipython",
    "version": 3
   },
   "file_extension": ".py",
   "mimetype": "text/x-python",
   "name": "python",
   "nbconvert_exporter": "python",
   "pygments_lexer": "ipython3",
   "version": "3.10.8"
  }
 },
 "nbformat": 4,
 "nbformat_minor": 5
}
